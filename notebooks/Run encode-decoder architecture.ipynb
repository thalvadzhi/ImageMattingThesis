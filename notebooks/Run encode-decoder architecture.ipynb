{
 "cells": [
  {
   "cell_type": "code",
   "execution_count": 25,
   "metadata": {
    "collapsed": false
   },
   "outputs": [
    {
     "name": "stdout",
     "output_type": "stream",
     "text": [
      "The autoreload extension is already loaded. To reload it, use:\n",
      "  %reload_ext autoreload\n"
     ]
    }
   ],
   "source": [
    "%load_ext autoreload\n",
    "%autoreload 2\n",
    "import sys\n",
    "import keras\n",
    "from keras.models import Model\n",
    "from keras.layers import Conv2D, UpSampling2D\n",
    "sys.path.insert(0, \"../scripts/\")\n",
    "from load_encoder_decoder import build_encoder_decoder_from_vgg\n",
    "from data_generator import DataGenerator\n",
    "from losses import overall_loss_wrapper\n",
    "from keras.callbacks import ModelCheckpoint, EarlyStopping, ReduceLROnPlateau\n",
    "from keras.utils import multi_gpu_model"
   ]
  },
  {
   "cell_type": "code",
   "execution_count": 34,
   "metadata": {
    "collapsed": true
   },
   "outputs": [],
   "source": [
    "PATIENCE=30\n",
    "PATH_MODEL_CHECKPOINTS = \"../model_checkpoints\"\n",
    "PATH_LOGS = \"../logs\"\n",
    "\n",
    "BATCH_SIZE=16"
   ]
  },
  {
   "cell_type": "code",
   "execution_count": 2,
   "metadata": {
    "collapsed": false
   },
   "outputs": [],
   "source": [
    "inputs, model = build_encoder_decoder_from_vgg()"
   ]
  },
  {
   "cell_type": "code",
   "execution_count": 36,
   "metadata": {
    "collapsed": true
   },
   "outputs": [],
   "source": [
    "path_combined_train = \"D:\\\\Image Matting Dataset\\\\merged_ds_two\\\\\"\n",
    "path_alphas_train = \"D:\\\\Image Matting Dataset\\\\adobe dataset\\\\Combined_Dataset\\\\Training_set\\\\all_alphas\\\\\"\n",
    "\n",
    "path_combined_test = \"\" + path_combined_train\n",
    "path_alphas_test = \"\" + path_alphas_train"
   ]
  },
  {
   "cell_type": "code",
   "execution_count": 37,
   "metadata": {
    "collapsed": false
   },
   "outputs": [],
   "source": [
    "train_gen = DataGenerator(path_combined_train, path_alphas_train, BATCH_SIZE, True)\n",
    "test_gen = DataGenerator(path_combined_test, path_alphas_test, BATCH_SIZE, True) "
   ]
  },
  {
   "cell_type": "code",
   "execution_count": 31,
   "metadata": {
    "collapsed": false
   },
   "outputs": [],
   "source": [
    "tensor_board = keras.callbacks.TensorBoard(log_dir=PATH_LOGS, histogram_freq=0, write_graph=True, write_images=True)\n",
    "model_name = PATH_MODEL_CHECKPOINTS + 'encoder_decoder.{epoch:02d}-{val_loss:.4f}-{val_acc:.4f}.hdf5'\n",
    "model_checkpoint = ModelCheckpoint(model_name, monitor='val_loss', verbose=1, save_best_only=True)\n",
    "early_stop = EarlyStopping('val_loss', patience=PATIENCE, verbose=1)\n",
    "reduce_lr = ReduceLROnPlateau('val_loss', factor=0.1, patience=PATIENCE // 4, verbose=1)\n",
    "\n",
    "callbacks = [tensor_board, model_checkpoint, early_stop, reduce_lr]"
   ]
  },
  {
   "cell_type": "code",
   "execution_count": 16,
   "metadata": {
    "collapsed": false
   },
   "outputs": [],
   "source": [
    "model.compile(optimizer=\"adam\", loss=overall_loss_wrapper(inputs), use_multiprocessing=True, workers=3, callbacks=callbacks)"
   ]
  },
  {
   "cell_type": "code",
   "execution_count": 24,
   "metadata": {
    "collapsed": false
   },
   "outputs": [
    {
     "name": "stdout",
     "output_type": "stream",
     "text": [
      "Epoch 1/1\n",
      "2/2 [==============================] - 56s 28s/step - loss: 819096.2500\n"
     ]
    }
   ],
   "source": [
    "history = model.fit_generator(gen)"
   ]
  }
 ],
 "metadata": {
  "anaconda-cloud": {},
  "kernelspec": {
   "display_name": "Python [conda env:tensorflow-cpu]",
   "language": "python",
   "name": "conda-env-tensorflow-cpu-py"
  },
  "language_info": {
   "codemirror_mode": {
    "name": "ipython",
    "version": 3
   },
   "file_extension": ".py",
   "mimetype": "text/x-python",
   "name": "python",
   "nbconvert_exporter": "python",
   "pygments_lexer": "ipython3",
   "version": "3.6.2"
  }
 },
 "nbformat": 4,
 "nbformat_minor": 1
}
