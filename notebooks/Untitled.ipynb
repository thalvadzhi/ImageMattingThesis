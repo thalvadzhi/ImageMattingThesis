{
 "cells": [
  {
   "cell_type": "code",
   "execution_count": 1,
   "metadata": {
    "collapsed": false
   },
   "outputs": [
    {
     "name": "stderr",
     "output_type": "stream",
     "text": [
      "Using TensorFlow backend.\n"
     ]
    }
   ],
   "source": [
    "%load_ext autoreload\n",
    "%autoreload 2\n",
    "import keras\n",
    "from keras.models import Model, Sequential\n",
    "from keras.layers import Input, Conv2D, MaxPooling2D, Flatten, Dense\n",
    "import numpy as np\n",
    "from PIL import Image\n",
    "import sys\n",
    "sys.path.append(\"../scripts\")\n",
    "from losses import *\n",
    "from crop import *\n",
    "from matplotlib.pyplot import imshow\n",
    "from data_generator import DataGenerator\n",
    "from losses import overall_loss_wrapper"
   ]
  },
  {
   "cell_type": "code",
   "execution_count": 2,
   "metadata": {
    "collapsed": true
   },
   "outputs": [],
   "source": [
    "gen = DataGenerator(\"D:\\\\Image Matting Dataset\\\\merged_ds_two\\\\\", \"D:\\\\Image Matting Dataset\\\\adobe dataset\\\\Combined_Dataset\\\\Training_set\\\\all_alphas\\\\\", 4, True)"
   ]
  },
  {
   "cell_type": "code",
   "execution_count": 3,
   "metadata": {
    "collapsed": true
   },
   "outputs": [],
   "source": [
    "input_tensor = Input(shape=(320, 320, 4))\n",
    "out = Conv2D(1, strides=(1,1), padding=\"same\", kernel_size=(1, 1))(input_tensor)\n",
    "\n",
    "model = Model(input_tensor, out)\n",
    "model.compile(loss=overall_loss_wrapper(input_tensor), optimizer='adam')"
   ]
  },
  {
   "cell_type": "code",
   "execution_count": 6,
   "metadata": {
    "collapsed": false
   },
   "outputs": [
    {
     "data": {
      "text/plain": [
       "[(200, 239),\n",
       " (66, 40),\n",
       " (0, 212),\n",
       " (133, 278),\n",
       " (22, 307),\n",
       " (108, 232),\n",
       " (14, 245),\n",
       " (171, 30),\n",
       " (265, 13),\n",
       " (277, 231),\n",
       " (281, 125),\n",
       " (109, 48),\n",
       " (137, 158),\n",
       " (266, 212),\n",
       " (261, 281),\n",
       " (27, 138),\n",
       " (185, 269),\n",
       " (283, 201),\n",
       " (266, 315),\n",
       " (255, 39),\n",
       " (298, 311),\n",
       " (39, 117),\n",
       " (172, 154),\n",
       " (121, 60),\n",
       " (306, 232),\n",
       " (232, 283),\n",
       " (93, 111),\n",
       " (193, 94),\n",
       " (105, 264),\n",
       " (313, 284),\n",
       " (225, 264),\n",
       " (46, 9),\n",
       " (300, 233),\n",
       " (249, 108),\n",
       " (227, 34),\n",
       " (7, 269),\n",
       " (139, 227),\n",
       " (7, 48),\n",
       " (277, 265),\n",
       " (218, 109),\n",
       " (163, 13),\n",
       " (242, 221),\n",
       " (115, 287),\n",
       " (298, 119),\n",
       " (117, 314),\n",
       " (104, 168),\n",
       " (82, 46),\n",
       " (67, 146),\n",
       " (269, 243),\n",
       " (181, 295)]"
      ]
     },
     "execution_count": 6,
     "metadata": {},
     "output_type": "execute_result"
    }
   ],
   "source": [
    "n = 50\n",
    "[tuple(i) for i in np.random.randint(320, size=(n,2))]"
   ]
  },
  {
   "cell_type": "code",
   "execution_count": 7,
   "metadata": {
    "collapsed": true
   },
   "outputs": [],
   "source": [
    "from CONSTANTS import TRIMAP_UNKNOWN_VALUE"
   ]
  },
  {
   "cell_type": "code",
   "execution_count": 8,
   "metadata": {
    "collapsed": true
   },
   "outputs": [],
   "source": [
    "def make_rand_trimap(X):\n",
    "    X_c = X.copy()\n",
    "    n = 50\n",
    "    coords = [tuple(i) for i in np.random.randint(320, size=(n,2))]\n",
    "    for x, y in coords:\n",
    "        X_c[:, x, y, 3] = TRIMAP_UNKNOWN_VALUE\n",
    "    return X_c"
   ]
  },
  {
   "cell_type": "code",
   "execution_count": 45,
   "metadata": {
    "collapsed": false
   },
   "outputs": [
    {
     "data": {
      "text/plain": [
       "132887.3"
      ]
     },
     "execution_count": 45,
     "metadata": {},
     "output_type": "execute_result"
    }
   ],
   "source": [
    "X = np.random.rand(1, 320, 320, 4)\n",
    "X *= 1000\n",
    "X = make_rand_trimap(X)\n",
    "y = np.random.rand(1, 320, 320, 1)\n",
    "# model.test_on_batch(X, y)  # => 1.1974642\n",
    "\n",
    "model.test_on_batch(X, y)  # => 511.15466"
   ]
  }
 ],
 "metadata": {
  "anaconda-cloud": {},
  "kernelspec": {
   "display_name": "Python [conda env:tensorflow-cpu]",
   "language": "python",
   "name": "conda-env-tensorflow-cpu-py"
  },
  "language_info": {
   "codemirror_mode": {
    "name": "ipython",
    "version": 3
   },
   "file_extension": ".py",
   "mimetype": "text/x-python",
   "name": "python",
   "nbconvert_exporter": "python",
   "pygments_lexer": "ipython3",
   "version": "3.6.2"
  }
 },
 "nbformat": 4,
 "nbformat_minor": 1
}
