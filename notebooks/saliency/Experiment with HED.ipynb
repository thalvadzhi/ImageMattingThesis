{
 "cells": [
  {
   "cell_type": "code",
   "execution_count": 12,
   "metadata": {
    "collapsed": false
   },
   "outputs": [
    {
     "name": "stdout",
     "output_type": "stream",
     "text": [
      "The autoreload extension is already loaded. To reload it, use:\n",
      "  %reload_ext autoreload\n"
     ]
    }
   ],
   "source": [
    "%load_ext autoreload\n",
    "%autoreload 2\n",
    "import sys\n",
    "import keras\n",
    "from keras.models import Model\n",
    "from keras.layers import Conv2D, UpSampling2D\n",
    "sys.path.insert(0, \"../../scripts/\")\n",
    "# from scriptsload_encoder_decoder import build_encoder_decoder_from_vgg\n",
    "# from data_generator import DataGenerator\n",
    "# from losses import overall_loss_wrapper\n",
    "from keras.callbacks import ModelCheckpoint, EarlyStopping, ReduceLROnPlateau\n",
    "from keras.utils import multi_gpu_model\n",
    "from keras.models import load_model\n",
    "from keras.layers import Input, Conv2D, Conv2DTranspose, Concatenate, ZeroPadding2D, Activation\n",
    "from keras.optimizers import Adam\n",
    "import numpy as np\n",
    "# from unpooling import Unpooling\n",
    "from matplotlib.pyplot import imshow, figure\n",
    "# from model import build_encoder_decoder, build_refinement\n",
    "import cv2 as cv\n",
    "import math\n",
    "import tensorflow as tf\n",
    "from scipy import misc"
   ]
  },
  {
   "cell_type": "code",
   "execution_count": 3,
   "metadata": {
    "collapsed": true
   },
   "outputs": [],
   "source": [
    "from keras import backend as K"
   ]
  },
  {
   "cell_type": "code",
   "execution_count": 13,
   "metadata": {
    "collapsed": true
   },
   "outputs": [],
   "source": [
    "vgg = keras.applications.vgg16.VGG16(include_top=False, weights='imagenet', input_shape=(448, 320, 3))"
   ]
  },
  {
   "cell_type": "code",
   "execution_count": 20,
   "metadata": {
    "collapsed": false
   },
   "outputs": [
    {
     "name": "stdout",
     "output_type": "stream",
     "text": [
      "_________________________________________________________________\n",
      "Layer (type)                 Output Shape              Param #   \n",
      "=================================================================\n",
      "input_8 (InputLayer)         (None, 300, 400, 3)       0         \n",
      "_________________________________________________________________\n",
      "block1_conv1 (Conv2D)        (None, 300, 400, 64)      1792      \n",
      "_________________________________________________________________\n",
      "block1_conv2 (Conv2D)        (None, 300, 400, 64)      36928     \n",
      "_________________________________________________________________\n",
      "block1_pool (MaxPooling2D)   (None, 150, 200, 64)      0         \n",
      "_________________________________________________________________\n",
      "block2_conv1 (Conv2D)        (None, 150, 200, 128)     73856     \n",
      "_________________________________________________________________\n",
      "block2_conv2 (Conv2D)        (None, 150, 200, 128)     147584    \n",
      "_________________________________________________________________\n",
      "block2_pool (MaxPooling2D)   (None, 75, 100, 128)      0         \n",
      "_________________________________________________________________\n",
      "block3_conv1 (Conv2D)        (None, 75, 100, 256)      295168    \n",
      "_________________________________________________________________\n",
      "block3_conv2 (Conv2D)        (None, 75, 100, 256)      590080    \n",
      "_________________________________________________________________\n",
      "block3_conv3 (Conv2D)        (None, 75, 100, 256)      590080    \n",
      "_________________________________________________________________\n",
      "block3_pool (MaxPooling2D)   (None, 37, 50, 256)       0         \n",
      "_________________________________________________________________\n",
      "block4_conv1 (Conv2D)        (None, 37, 50, 512)       1180160   \n",
      "_________________________________________________________________\n",
      "block4_conv2 (Conv2D)        (None, 37, 50, 512)       2359808   \n",
      "_________________________________________________________________\n",
      "block4_conv3 (Conv2D)        (None, 37, 50, 512)       2359808   \n",
      "_________________________________________________________________\n",
      "block4_pool (MaxPooling2D)   (None, 18, 25, 512)       0         \n",
      "_________________________________________________________________\n",
      "block5_conv1 (Conv2D)        (None, 18, 25, 512)       2359808   \n",
      "_________________________________________________________________\n",
      "block5_conv2 (Conv2D)        (None, 18, 25, 512)       2359808   \n",
      "_________________________________________________________________\n",
      "block5_conv3 (Conv2D)        (None, 18, 25, 512)       2359808   \n",
      "_________________________________________________________________\n",
      "block5_pool (MaxPooling2D)   (None, 9, 12, 512)        0         \n",
      "=================================================================\n",
      "Total params: 14,714,688\n",
      "Trainable params: 14,714,688\n",
      "Non-trainable params: 0\n",
      "_________________________________________________________________\n"
     ]
    }
   ],
   "source": [
    "vgg.summary()"
   ]
  },
  {
   "cell_type": "code",
   "execution_count": 5,
   "metadata": {
    "collapsed": false
   },
   "outputs": [],
   "source": [
    "def pad_if_needed(target, rest):\n",
    "    target_w, target_h = K.shape(target)[1], K.shape(target)[2]\n",
    "    padded = []\n",
    "    for tensor in rest:\n",
    "        tensor_w, tensor_h = K.shape(tensor)[1], K.shape(tensor)[2]\n",
    "        delta_w = target_w - tensor_w\n",
    "        delta_h = target_h - tensor_h\n",
    "        x = ZeroPadding2D(padding=((delta_h, 0), (delta_w, 0)))(tensor)\n",
    "        padded.append(x)\n",
    "    return tuple(padded)"
   ]
  },
  {
   "cell_type": "code",
   "execution_count": 4,
   "metadata": {
    "collapsed": true
   },
   "outputs": [],
   "source": [
    "def deconv2d(x, kernel, strides, name, output_shape, activation=None):\n",
    "    kernel_shape = [kernel, kernel, 1, 1]\n",
    "    strides = [1, strides, strides, 1]\n",
    "    kernel = tf.get_variable('weight_{}'.format(name), shape=kernel_shape,\n",
    "                             initializer=tf.random_normal_initializer(mean=0, stddev=1))\n",
    "    deconv = tf.nn.conv2d_transpose(x, kernel, strides=strides, output_shape=output_shape, padding='SAME',\n",
    "                                    name=name)\n",
    "    if activation is not None:\n",
    "        return Activation(activation)(deconv)\n",
    "    return deconv #K.conv2d_transpose(x, kernel, output_shape, strides=(1, 1), padding='SAME', name=name)\n"
   ]
  },
  {
   "cell_type": "code",
   "execution_count": 7,
   "metadata": {
    "collapsed": false
   },
   "outputs": [
    {
     "data": {
      "text/plain": [
       "<tf.Tensor 'Shape_13:0' shape=(4,) dtype=int32>"
      ]
     },
     "execution_count": 7,
     "metadata": {},
     "output_type": "execute_result"
    }
   ],
   "source": [
    "K.shape(vgg.input)"
   ]
  },
  {
   "cell_type": "code",
   "execution_count": 14,
   "metadata": {
    "collapsed": false
   },
   "outputs": [
    {
     "name": "stdout",
     "output_type": "stream",
     "text": [
      "(None, 56, 40, 1)\n"
     ]
    }
   ],
   "source": [
    "output_shape = tf.stack([tf.shape(vgg.input)[0], tf.shape(vgg.input)[1], tf.shape(vgg.input)[2], 1])\n",
    "\n",
    "filters_init = 256\n",
    "#maybe reduce here?\n",
    "#block6\n",
    "pool5 = vgg.get_layer(\"block5_pool\")\n",
    "\n",
    "conv1_side_pool5 = Conv2D(filters=filters_init, kernel_size=(7, 7), strides=1, padding=\"same\", kernel_initializer=\"he_normal\", activation=\"relu\", name=\"conv1_side_pool5\")(pool5.output)\n",
    "conv2_side_pool5 = Conv2D(filters=filters_init, kernel_size=(7, 7), strides=1, padding=\"same\", kernel_initializer=\"he_normal\", activation=\"relu\", name=\"conv2_side_pool5\")(conv1_side_pool5)\n",
    "conv3_side_pool5 = Conv2D(filters=1, kernel_size=(1, 1), strides=1, padding=\"valid\", kernel_initializer=\"he_normal\", activation=None, name=\"conv3_side_pool5\")(conv2_side_pool5)\n",
    "score_side_pool5_up = Conv2DTranspose(filters=1, kernel_size=64, strides=32, name=\"upsampling_side_pool5\", padding=\"same\")(conv3_side_pool5)\n",
    "# score_side_pool5_up = deconv2d(conv3_side_pool5, 64, 32 ,\"upsampling_side_pool5\", output_shape)\n",
    "\n",
    "#block5\n",
    "block5_conv3 = vgg.get_layer(\"block5_conv3\")\n",
    "\n",
    "conv1_side5 = Conv2D(filters=filters_init, kernel_size=(5, 5), strides=1, padding=\"same\", kernel_initializer=\"he_normal\", activation=\"relu\", name=\"conv1_side5\")(block5_conv3.output)\n",
    "conv2_side5 = Conv2D(filters=filters_init, kernel_size=(5, 5), strides=1, padding=\"same\", kernel_initializer=\"he_normal\", activation=\"relu\", name=\"conv2_side5\")(conv1_side5)\n",
    "conv3_side5 = Conv2D(filters=1, kernel_size=(1, 1), strides=1, padding=\"valid\", kernel_initializer=\"he_normal\", activation=None, name=\"conv3_side5\")(conv2_side5)\n",
    "score_side5_up = Conv2DTranspose(filters=1, kernel_size=32, strides=16, name=\"upsampling_side5\", padding=\"same\")(conv3_side5)\n",
    "# score_side5_up = deconv2d(conv3_side5, 32, 16, \"upsampling_side5\", output_shape)\n",
    "\n",
    "#block4\n",
    "block4_conv3 = vgg.get_layer(\"block4_conv3\")\n",
    "\n",
    "conv1_side4 = Conv2D(filters=filters_init//2, kernel_size=(5, 5), strides=1, padding=\"same\", kernel_initializer=\"he_normal\", activation=\"relu\", name=\"conv1_side4\")(block4_conv3.output)\n",
    "conv2_side4 = Conv2D(filters=filters_init//2, kernel_size=(5, 5), strides=1, padding=\"same\", kernel_initializer=\"he_normal\", activation=\"relu\", name=\"conv2_side4\")(conv1_side4)\n",
    "conv3_side4 = Conv2D(filters=1, kernel_size=(1, 1), strides=1, padding=\"valid\", kernel_initializer=\"he_normal\", activation=None, name=\"conv3_side4\")(conv2_side4)\n",
    "score_side_pool5_up_4 = Conv2DTranspose(filters=1, kernel_size=8, strides=4, name=\"upsampling_c3_sp5_4\", padding=\"same\")(conv3_side_pool5)\n",
    "# score_side_pool5_up_4 = deconv2d(conv3_side_pool5, 8, 4, \"upsampling_c3_sp5_4\", K.shape(conv3_side4))\n",
    "\n",
    "score_side5_up_4 = Conv2DTranspose(filters=1, kernel_size=4, strides=2, name=\"upsampling_c3_s5_4\", padding=\"same\")(conv3_side5)\n",
    "# score_side5_up_4 = deconv2d(conv3_side5, 4, 2, \"upsampling_c3_s5_4\", K.shape(conv3_side4))\n",
    "print(K.int_shape(conv3_side4))\n",
    "\n",
    "concat_side4 = Concatenate(name=\"concat_s4\")([conv3_side4, score_side_pool5_up_4, score_side5_up_4])\n",
    "conv4_side4 = Conv2D(filters=1, kernel_size=(1, 1), strides=1, padding=\"valid\", kernel_initializer=\"he_normal\", activation=None, name=\"conv4_side4\")(concat_side4)\n",
    "score_side4_up = Conv2DTranspose(filters=1, kernel_size=16, strides=8, name=\"upsampling_concat4\", padding=\"same\")(conv4_side4)\n",
    "# score_side4_up = deconv2d(conv4_side4, 16, 8, \"upsampling_concat4\", output_shape)\n",
    "\n",
    "#block3\n",
    "block3_conv3 = vgg.get_layer(\"block3_conv3\")\n",
    "\n",
    "conv1_side3 = Conv2D(filters=filters_init//2, kernel_size=(5, 5), strides=1, padding=\"same\", kernel_initializer=\"he_normal\", activation=\"relu\", name=\"conv1_side3\")(block3_conv3.output)\n",
    "conv2_side3 = Conv2D(filters=filters_init//2, kernel_size=(5, 5), strides=1, padding=\"same\", kernel_initializer=\"he_normal\", activation=\"relu\", name=\"conv2_side3\")(conv1_side3)\n",
    "conv3_side3 = Conv2D(filters=1, kernel_size=(1, 1), strides=1, padding=\"valid\", kernel_initializer=\"he_normal\", activation=None, name=\"conv3_side3\")(conv2_side3)\n",
    "\n",
    "score_side_pool5_up_3 = Conv2DTranspose(filters=1, kernel_size=16, strides=8, name=\"upsampling_c3_sp5_3\", padding=\"same\")(conv3_side_pool5)\n",
    "# score_side_pool5_up_3 = deconv2d(conv3_side_pool5, 16, 8, \"upsampling_c3_sp5_3\", K.shape(conv3_side3))\n",
    "\n",
    "score_side5_up_3 = Conv2DTranspose(filters=1, kernel_size=8, strides=4, name=\"upsampling_c3_s5_3\", padding=\"same\")(conv3_side5)\n",
    "# score_side5_up_3 = deconv2d(conv3_side5, 8, 4, \"upsampling_c3_s5_3\", K.shape(conv3_side3))\n",
    "\n",
    "concat_side3 = Concatenate(name=\"concat_side3\")([conv3_side3, score_side_pool5_up_3, score_side5_up_3])\n",
    "conv4_side3 = Conv2D(filters=1, kernel_size=(1, 1), strides=1, padding=\"valid\", kernel_initializer=\"he_normal\", activation=None, name=\"conv4_side3\")(concat_side3)\n",
    "score_side3_up = Conv2DTranspose(filters=1, kernel_size=8, strides=4, name=\"upsampling_concat3\", padding=\"same\")(conv4_side3)\n",
    "# score_side3_up = deconv2d(conv4_side3, 8, 4, \"upsampling_concat3\", output_shape)\n",
    "\n",
    "#block2\n",
    "block2_conv2 = vgg.get_layer(\"block2_conv2\")\n",
    "conv1_side2 = Conv2D(filters=filters_init//4, kernel_size=(3, 3), strides=1, padding=\"same\", kernel_initializer=\"he_normal\", activation=\"relu\", name=\"conv1_side2\")(block2_conv2.output)\n",
    "conv2_side2 = Conv2D(filters=filters_init//4, kernel_size=(3, 3), strides=1, padding=\"same\", kernel_initializer=\"he_normal\", activation=\"relu\", name=\"conv2_side2\")(conv1_side2)\n",
    "conv3_side2 = Conv2D(filters=1, kernel_size=(1, 1), strides=1, padding=\"valid\", kernel_initializer=\"he_normal\", activation=None, name=\"conv3_side2\")(conv2_side2)\n",
    "\n",
    "score_side_pool5_up_2 = Conv2DTranspose(filters=1, kernel_size=32, strides=16, name=\"upsampling_c3_sp5_2\", padding=\"same\")(conv3_side_pool5)\n",
    "# score_side_pool5_up_2 = deconv2d(conv3_side_pool5, 32, 16, \"upsampling_c3_sp5_2\", K.shape(conv3_side2))\n",
    "\n",
    "score_side5_up_2 = Conv2DTranspose(filters=1, kernel_size=16, strides=8, name=\"upsampling_c3_s5_2\", padding=\"same\")(conv3_side5)\n",
    "# score_side5_up_2 = deconv2d(conv3_side5, 16, 8, \"upsampling_c3_s5_2\", K.shape(conv3_side2))\n",
    "\n",
    "score_side4_up_2 = Conv2DTranspose(filters=1, kernel_size=8, strides=4, name=\"upsampling_c3_s4_2\", padding=\"same\")(conv3_side4)\n",
    "#  score_side4_up_2 = deconv2d(conv3_side4, 8, 4, \"upsampling_c3_s4_2\", K.shape(conv3_side2))\n",
    "\n",
    "score_side3_up_2 = Conv2DTranspose(filters=1, kernel_size=4, strides=2, name=\"upsampling_c3_s3_2\", padding=\"same\")(conv3_side3)\n",
    "# score_side3_up_2 = deconv2d(conv3_side3, 4, 2, \"upsampling_c3_s3_2\", K.shape(conv3_side2))\n",
    "\n",
    "concat_side2 = Concatenate(name=\"concat_side2\")([conv3_side2, score_side_pool5_up_2, score_side5_up_2, score_side4_up_2, score_side3_up_2])\n",
    "\n",
    "conv4_side2 = Conv2D(filters=1, kernel_size=(1, 1), strides=1, padding=\"valid\", kernel_initializer=\"he_normal\", activation=None, name=\"conv4_side2\")(concat_side2)\n",
    "score_side2_up = Conv2DTranspose(filters=1, kernel_size=4, strides=2, name=\"upsampling_concat2\", padding=\"same\")(conv4_side2)\n",
    "# score_side2_up = deconv2d(conv4_side2, 4, 2, \"upsampling_concat2\", output_shape)\n",
    "\n",
    "#block1\n",
    "block1_conv2 = vgg.get_layer(\"block1_conv2\")\n",
    "conv1_side1 = Conv2D(filters=filters_init//4, kernel_size=(3, 3), strides=1, padding=\"same\", kernel_initializer=\"he_normal\", activation=\"relu\", name=\"conv1_side1\")(block1_conv2.output)\n",
    "conv2_side1 = Conv2D(filters=filters_init//4, kernel_size=(3, 3), strides=1, padding=\"same\", kernel_initializer=\"he_normal\", activation=\"relu\", name=\"conv2_side1\")(conv1_side1)\n",
    "conv3_side1 = Conv2D(filters=1, kernel_size=(1, 1), strides=1, padding=\"valid\", kernel_initializer=\"he_normal\", activation=None, name=\"conv3_side1\")(conv2_side1)\n",
    "\n",
    "score_side_pool5_up_1 = Conv2DTranspose(filters=1, kernel_size=64, strides=32, name=\"upsampling_c3_sp5_1\", padding=\"same\")(conv3_side_pool5)\n",
    "# score_side_pool5_up_1 = deconv2d(conv3_side_pool5, 64, 32, \"upsampling_c3_sp5_1\", K.shape(conv3_side1))\n",
    "\n",
    "score_side5_up_1 = Conv2DTranspose(filters=1, kernel_size=32, strides=16, name=\"upsampling_c3_s5_1\", padding=\"same\")(conv3_side5)\n",
    "# score_side5_up_1 = deconv2d(conv3_side5, 32, 16, \"upsampling_c3_s5_1\", K.shape(conv3_side1))\n",
    "\n",
    "score_side4_up_1 = Conv2DTranspose(filters=1, kernel_size=16, strides=8, name=\"upsampling_c3_s4_1\", padding=\"same\")(conv3_side4)\n",
    "# score_side4_up_1 = deconv2d(conv3_side4, 16, 8, \"upsampling_c3_s4_1\", K.shape(conv3_side1))\n",
    "\n",
    "score_side3_up_1 = Conv2DTranspose(filters=1, kernel_size=8, strides=4, name=\"upsampling_c3_s3_1\", padding=\"same\")(conv3_side3)\n",
    "# score_side3_up_1 = deconv2d(conv3_side3, 8, 4, \"upsampling_c3_s3_1\", K.shape(conv3_side1))\n",
    "\n",
    "concat_side1 = Concatenate(name=\"concat_side1\")([conv3_side1, score_side_pool5_up_1, score_side5_up_1, score_side4_up_1, score_side3_up_1])\n",
    "score_side1_up = Conv2D(filters=1, kernel_size=(1, 1), strides=1, padding=\"valid\", kernel_initializer=\"he_normal\", activation=None, name=\"conv4_side1\")(concat_side1)\n",
    "\n",
    "#fusing\n",
    "\n",
    "concat_fusion = Concatenate(name=\"concat_fusion\")([score_side1_up, score_side2_up, score_side3_up, score_side4_up, score_side5_up, score_side_pool5_up])\n",
    "# concat_fusion = tf.concat([score_side1_up, score_side2_up, score_side3_up, score_side4_up, score_side5_up, score_side_pool5_up], axis=-1, name=\"concat_fusion\")\n",
    "score_fusion = Conv2D(filters=1, kernel_size=(1, 1), strides=1, padding=\"valid\", kernel_initializer=\"he_normal\", activation=None, name=\"conv_fuse\")(concat_fusion)\n"
   ]
  },
  {
   "cell_type": "code",
   "execution_count": 9,
   "metadata": {
    "collapsed": true
   },
   "outputs": [],
   "source": [
    "tf.get_variable_scope().reuse_variables()"
   ]
  },
  {
   "cell_type": "code",
   "execution_count": 15,
   "metadata": {
    "collapsed": false
   },
   "outputs": [],
   "source": [
    "model = Model(inputs=vgg.input, outputs=[score_side1_up, score_side2_up, score_side3_up, score_side4_up, score_side5_up, score_side_pool5_up, score_fusion])"
   ]
  },
  {
   "cell_type": "code",
   "execution_count": 16,
   "metadata": {
    "collapsed": true
   },
   "outputs": [],
   "source": [
    "losses = {\n",
    "    \"conv4_side1\": \"binary_crossentropy\",\n",
    "    \"upsampling_concat2\": \"binary_crossentropy\",\n",
    "    \"upsampling_concat3\": \"binary_crossentropy\",\n",
    "    \"upsampling_concat4\": \"binary_crossentropy\",\n",
    "    \"upsampling_side5\": \"binary_crossentropy\",\n",
    "    \"upsampling_side_pool5\": \"binary_crossentropy\",\n",
    "    \"conv_fuse\": \"binary_crossentropy\"\n",
    "}\n",
    "\n",
    "loss_weights = {\n",
    "    \"conv4_side1\": 1,\n",
    "    \"upsampling_concat2\": 1,\n",
    "    \"upsampling_concat3\": 1,\n",
    "    \"upsampling_concat4\": 1,\n",
    "    \"upsampling_side5\": 1,\n",
    "    \"upsampling_side_pool5\": 1.0,\n",
    "    \"conv_fuse\": 1\n",
    "}"
   ]
  },
  {
   "cell_type": "code",
   "execution_count": 9,
   "metadata": {
    "collapsed": false
   },
   "outputs": [],
   "source": [
    "opt = Adam(lr=0.0001)\n",
    "model.compile(optimizer=opt, loss=losses, loss_weights=lossWeights)"
   ]
  },
  {
   "cell_type": "code",
   "execution_count": 17,
   "metadata": {
    "collapsed": false
   },
   "outputs": [],
   "source": [
    "img = cv.imread(\"D:\\\\saliency dataset\\\\ecssd\\\\images\\\\0001.jpg\")\n",
    "alpha = cv.imread(\"D:\\\\saliency dataset\\\\ecssd\\\\ground_truth_mask\\\\0001.jpg\")"
   ]
  },
  {
   "cell_type": "code",
   "execution_count": 18,
   "metadata": {
    "collapsed": false
   },
   "outputs": [
    {
     "data": {
      "text/plain": [
       "[array([[[[  58.028465 ],\n",
       "          [ 204.71382  ],\n",
       "          [ 206.65106  ],\n",
       "          ...,\n",
       "          [-113.710724 ],\n",
       "          [-193.81927  ],\n",
       "          [-208.71951  ]],\n",
       " \n",
       "         [[   3.2643242],\n",
       "          [  84.151474 ],\n",
       "          [  71.22215  ],\n",
       "          ...,\n",
       "          [ -89.92949  ],\n",
       "          [ 112.15198  ],\n",
       "          [-110.76356  ]],\n",
       " \n",
       "         [[-413.92596  ],\n",
       "          [ 149.18294  ],\n",
       "          [ 121.18053  ],\n",
       "          ...,\n",
       "          [-174.77713  ],\n",
       "          [-248.69264  ],\n",
       "          [-425.91666  ]],\n",
       " \n",
       "         ...,\n",
       " \n",
       "         [[ -75.3498   ],\n",
       "          [ -81.38957  ],\n",
       "          [-113.672066 ],\n",
       "          ...,\n",
       "          [-180.74979  ],\n",
       "          [ -29.568298 ],\n",
       "          [-198.38104  ]],\n",
       " \n",
       "         [[  22.41048  ],\n",
       "          [ 126.39203  ],\n",
       "          [  93.544235 ],\n",
       "          ...,\n",
       "          [-204.58643  ],\n",
       "          [-120.91881  ],\n",
       "          [-155.79468  ]],\n",
       " \n",
       "         [[ -73.40959  ],\n",
       "          [-174.6529   ],\n",
       "          [-219.22844  ],\n",
       "          ...,\n",
       "          [-172.6671   ],\n",
       "          [-105.566315 ],\n",
       "          [-115.87441  ]]]], dtype=float32), array([[[[  -43.15322  ],\n",
       "          [  -82.92062  ],\n",
       "          [ -212.41934  ],\n",
       "          ...,\n",
       "          [ -192.25974  ],\n",
       "          [ -671.71594  ],\n",
       "          [  -43.58137  ]],\n",
       " \n",
       "         [[  162.38168  ],\n",
       "          [   32.81546  ],\n",
       "          [  677.74646  ],\n",
       "          ...,\n",
       "          [  741.7252   ],\n",
       "          [  841.8413   ],\n",
       "          [  278.7833   ]],\n",
       " \n",
       "         [[  -84.46326  ],\n",
       "          [ -129.23013  ],\n",
       "          [ -520.0654   ],\n",
       "          ...,\n",
       "          [ -122.510315 ],\n",
       "          [-1279.8447   ],\n",
       "          [  -54.85134  ]],\n",
       " \n",
       "         ...,\n",
       " \n",
       "         [[  -41.985218 ],\n",
       "          [  -64.65514  ],\n",
       "          [  244.83884  ],\n",
       "          ...,\n",
       "          [  125.01352  ],\n",
       "          [  424.99695  ],\n",
       "          [  -91.51488  ]],\n",
       " \n",
       "         [[   48.601997 ],\n",
       "          [  -33.19461  ],\n",
       "          [ -131.66577  ],\n",
       "          ...,\n",
       "          [ -155.07193  ],\n",
       "          [ -605.1084   ],\n",
       "          [  -48.97612  ]],\n",
       " \n",
       "         [[ -107.62058  ],\n",
       "          [    6.2864075],\n",
       "          [  235.29544  ],\n",
       "          ...,\n",
       "          [  579.7079   ],\n",
       "          [  232.65012  ],\n",
       "          [  161.63586  ]]]], dtype=float32), array([[[[ 109.12372  ],\n",
       "          [  21.36819  ],\n",
       "          [  11.783371 ],\n",
       "          ...,\n",
       "          [ -12.306953 ],\n",
       "          [  21.28194  ],\n",
       "          [  29.737457 ]],\n",
       " \n",
       "         [[ -21.595497 ],\n",
       "          [ 146.34648  ],\n",
       "          [ 128.69576  ],\n",
       "          ...,\n",
       "          [ -73.99889  ],\n",
       "          [ -55.872555 ],\n",
       "          [ -63.342484 ]],\n",
       " \n",
       "         [[ 186.51135  ],\n",
       "          [-241.85202  ],\n",
       "          [ 151.35306  ],\n",
       "          ...,\n",
       "          [-336.31638  ],\n",
       "          [   1.2980576],\n",
       "          [ 101.6109   ]],\n",
       " \n",
       "         ...,\n",
       " \n",
       "         [[ -30.003674 ],\n",
       "          [  50.07122  ],\n",
       "          [ 160.59285  ],\n",
       "          ...,\n",
       "          [-161.97008  ],\n",
       "          [ -64.30763  ],\n",
       "          [ -49.03727  ]],\n",
       " \n",
       "         [[ -51.81803  ],\n",
       "          [  52.0248   ],\n",
       "          [ -51.658943 ],\n",
       "          ...,\n",
       "          [-124.630066 ],\n",
       "          [  28.373837 ],\n",
       "          [  37.405735 ]],\n",
       " \n",
       "         [[  32.86632  ],\n",
       "          [ -50.684265 ],\n",
       "          [ -26.506016 ],\n",
       "          ...,\n",
       "          [ -75.87197  ],\n",
       "          [  38.542793 ],\n",
       "          [ -25.981049 ]]]], dtype=float32), array([[[[ 1.4072359 ],\n",
       "          [-1.9477    ],\n",
       "          [ 3.000356  ],\n",
       "          ...,\n",
       "          [ 0.00910583],\n",
       "          [-0.09952538],\n",
       "          [-0.01922129]],\n",
       " \n",
       "         [[ 0.6458208 ],\n",
       "          [-0.84891033],\n",
       "          [-1.1699405 ],\n",
       "          ...,\n",
       "          [ 0.11836246],\n",
       "          [-0.0377695 ],\n",
       "          [-0.09122878]],\n",
       " \n",
       "         [[ 0.3500392 ],\n",
       "          [ 2.1563067 ],\n",
       "          [ 2.808179  ],\n",
       "          ...,\n",
       "          [-0.07883632],\n",
       "          [ 0.10586043],\n",
       "          [ 0.08149818]],\n",
       " \n",
       "         ...,\n",
       " \n",
       "         [[ 0.01267366],\n",
       "          [-0.06059453],\n",
       "          [-0.16864158],\n",
       "          ...,\n",
       "          [ 1.5170119 ],\n",
       "          [-0.25020507],\n",
       "          [ 1.134955  ]],\n",
       " \n",
       "         [[-0.09975099],\n",
       "          [-0.22092168],\n",
       "          [ 0.06321999],\n",
       "          ...,\n",
       "          [-2.675316  ],\n",
       "          [-1.7566804 ],\n",
       "          [ 1.3144064 ]],\n",
       " \n",
       "         [[ 0.02925201],\n",
       "          [ 0.13181823],\n",
       "          [-0.09728696],\n",
       "          ...,\n",
       "          [-1.3165255 ],\n",
       "          [ 2.3452535 ],\n",
       "          [-2.1545455 ]]]], dtype=float32), array([[[[-6.19076528e-02],\n",
       "          [-8.02766159e-02],\n",
       "          [ 7.42214844e-02],\n",
       "          ...,\n",
       "          [ 6.64462568e-04],\n",
       "          [ 8.59366613e-04],\n",
       "          [-7.56171241e-04]],\n",
       " \n",
       "         [[-1.34983212e-01],\n",
       "          [-1.09393083e-01],\n",
       "          [-2.76156049e-02],\n",
       "          ...,\n",
       "          [ 1.14638358e-03],\n",
       "          [-1.15335814e-03],\n",
       "          [-8.36157124e-04]],\n",
       " \n",
       "         [[ 5.53434603e-02],\n",
       "          [ 5.29438816e-02],\n",
       "          [ 1.41796917e-01],\n",
       "          ...,\n",
       "          [-1.13613176e-04],\n",
       "          [ 2.51647638e-04],\n",
       "          [-6.27467700e-04]],\n",
       " \n",
       "         ...,\n",
       " \n",
       "         [[-7.92667642e-03],\n",
       "          [-3.12971398e-02],\n",
       "          [-1.19038401e-02],\n",
       "          ...,\n",
       "          [-1.02437347e-01],\n",
       "          [ 1.20937958e-01],\n",
       "          [-8.30414668e-02]],\n",
       " \n",
       "         [[ 3.73411775e-02],\n",
       "          [-2.13812701e-02],\n",
       "          [ 2.85866726e-02],\n",
       "          ...,\n",
       "          [-9.93698984e-02],\n",
       "          [-1.10688759e-02],\n",
       "          [-9.84940454e-02]],\n",
       " \n",
       "         [[-6.85280468e-03],\n",
       "          [-5.12972567e-03],\n",
       "          [ 3.54796797e-02],\n",
       "          ...,\n",
       "          [-1.64231993e-02],\n",
       "          [ 7.13661462e-02],\n",
       "          [ 5.08613549e-02]]]], dtype=float32), array([[[[ 0.00046727],\n",
       "          [-0.00100434],\n",
       "          [-0.00314834],\n",
       "          ...,\n",
       "          [ 0.09448726],\n",
       "          [ 0.01143279],\n",
       "          [-0.0699694 ]],\n",
       " \n",
       "         [[ 0.00276463],\n",
       "          [ 0.00210152],\n",
       "          [ 0.00255806],\n",
       "          ...,\n",
       "          [ 0.04409434],\n",
       "          [ 0.00990848],\n",
       "          [ 0.01809225]],\n",
       " \n",
       "         [[-0.00335815],\n",
       "          [ 0.00151813],\n",
       "          [-0.00264947],\n",
       "          ...,\n",
       "          [-0.02746033],\n",
       "          [-0.047557  ],\n",
       "          [ 0.05116287]],\n",
       " \n",
       "         ...,\n",
       " \n",
       "         [[-0.05471557],\n",
       "          [ 0.03218866],\n",
       "          [-0.00414842],\n",
       "          ...,\n",
       "          [ 0.02415219],\n",
       "          [ 0.01539253],\n",
       "          [-0.02542136]],\n",
       " \n",
       "         [[-0.05134879],\n",
       "          [ 0.0263635 ],\n",
       "          [ 0.00370636],\n",
       "          ...,\n",
       "          [-0.00034359],\n",
       "          [-0.01632889],\n",
       "          [-0.01681035]],\n",
       " \n",
       "         [[ 0.06369668],\n",
       "          [-0.02881886],\n",
       "          [ 0.07022122],\n",
       "          ...,\n",
       "          [-0.00855127],\n",
       "          [ 0.01872327],\n",
       "          [ 0.0175911 ]]]], dtype=float32), array([[[[  -4.180824],\n",
       "          [ 170.45653 ],\n",
       "          [ 156.6594  ],\n",
       "          ...,\n",
       "          [-123.35582 ],\n",
       "          [-272.67596 ],\n",
       "          [-212.26869 ]],\n",
       " \n",
       "         [[  32.761982],\n",
       "          [  13.758444],\n",
       "          [  90.638885],\n",
       "          ...,\n",
       "          [  43.767323],\n",
       "          [ 234.68544 ],\n",
       "          [ -37.897987]],\n",
       " \n",
       "         [[-481.05768 ],\n",
       "          [ 233.72426 ],\n",
       "          [ -26.011389],\n",
       "          ...,\n",
       "          [ -18.71625 ],\n",
       "          [-389.7854  ],\n",
       "          [-448.43024 ]],\n",
       " \n",
       "         ...,\n",
       " \n",
       "         [[ -60.74878 ],\n",
       "          [-106.80853 ],\n",
       "          [-149.94289 ],\n",
       "          ...,\n",
       "          [ -76.77017 ],\n",
       "          [  56.00567 ],\n",
       "          [-172.6964  ]],\n",
       " \n",
       "         [[  51.260147],\n",
       "          [  88.41948 ],\n",
       "          [  94.3299  ],\n",
       "          ...,\n",
       "          [-147.72731 ],\n",
       "          [-198.94566 ],\n",
       "          [-168.81131 ]],\n",
       " \n",
       "         [[ -96.78379 ],\n",
       "          [-136.9514  ],\n",
       "          [-160.9138  ],\n",
       "          ...,\n",
       "          [ -50.77909 ],\n",
       "          [ -88.66526 ],\n",
       "          [ -73.02849 ]]]], dtype=float32)]"
      ]
     },
     "execution_count": 18,
     "metadata": {},
     "output_type": "execute_result"
    }
   ],
   "source": [
    "model.predict(cv.resize(img, (448, 320)).reshape(1, 448, 320, 3))"
   ]
  },
  {
   "cell_type": "code",
   "execution_count": 7,
   "metadata": {
    "collapsed": false
   },
   "outputs": [
    {
     "name": "stdout",
     "output_type": "stream",
     "text": [
      "__________________________________________________________________________________________________\n",
      "Layer (type)                    Output Shape         Param #     Connected to                     \n",
      "==================================================================================================\n",
      "input_1 (InputLayer)            (None, 320, 320, 3)  0                                            \n",
      "__________________________________________________________________________________________________\n",
      "block1_conv1 (Conv2D)           (None, 320, 320, 64) 1792        input_1[0][0]                    \n",
      "__________________________________________________________________________________________________\n",
      "block1_conv2 (Conv2D)           (None, 320, 320, 64) 36928       block1_conv1[0][0]               \n",
      "__________________________________________________________________________________________________\n",
      "block1_pool (MaxPooling2D)      (None, 160, 160, 64) 0           block1_conv2[0][0]               \n",
      "__________________________________________________________________________________________________\n",
      "block2_conv1 (Conv2D)           (None, 160, 160, 128 73856       block1_pool[0][0]                \n",
      "__________________________________________________________________________________________________\n",
      "block2_conv2 (Conv2D)           (None, 160, 160, 128 147584      block2_conv1[0][0]               \n",
      "__________________________________________________________________________________________________\n",
      "block2_pool (MaxPooling2D)      (None, 80, 80, 128)  0           block2_conv2[0][0]               \n",
      "__________________________________________________________________________________________________\n",
      "block3_conv1 (Conv2D)           (None, 80, 80, 256)  295168      block2_pool[0][0]                \n",
      "__________________________________________________________________________________________________\n",
      "block3_conv2 (Conv2D)           (None, 80, 80, 256)  590080      block3_conv1[0][0]               \n",
      "__________________________________________________________________________________________________\n",
      "block3_conv3 (Conv2D)           (None, 80, 80, 256)  590080      block3_conv2[0][0]               \n",
      "__________________________________________________________________________________________________\n",
      "block3_pool (MaxPooling2D)      (None, 40, 40, 256)  0           block3_conv3[0][0]               \n",
      "__________________________________________________________________________________________________\n",
      "block4_conv1 (Conv2D)           (None, 40, 40, 512)  1180160     block3_pool[0][0]                \n",
      "__________________________________________________________________________________________________\n",
      "block4_conv2 (Conv2D)           (None, 40, 40, 512)  2359808     block4_conv1[0][0]               \n",
      "__________________________________________________________________________________________________\n",
      "block4_conv3 (Conv2D)           (None, 40, 40, 512)  2359808     block4_conv2[0][0]               \n",
      "__________________________________________________________________________________________________\n",
      "block4_pool (MaxPooling2D)      (None, 20, 20, 512)  0           block4_conv3[0][0]               \n",
      "__________________________________________________________________________________________________\n",
      "block5_conv1 (Conv2D)           (None, 20, 20, 512)  2359808     block4_pool[0][0]                \n",
      "__________________________________________________________________________________________________\n",
      "block5_conv2 (Conv2D)           (None, 20, 20, 512)  2359808     block5_conv1[0][0]               \n",
      "__________________________________________________________________________________________________\n",
      "block5_conv3 (Conv2D)           (None, 20, 20, 512)  2359808     block5_conv2[0][0]               \n",
      "__________________________________________________________________________________________________\n",
      "block5_pool (MaxPooling2D)      (None, 10, 10, 512)  0           block5_conv3[0][0]               \n",
      "__________________________________________________________________________________________________\n",
      "conv1_side_pool5 (Conv2D)       (None, 10, 10, 256)  6422784     block5_pool[0][0]                \n",
      "__________________________________________________________________________________________________\n",
      "conv1_side5 (Conv2D)            (None, 20, 20, 256)  3277056     block5_conv3[0][0]               \n",
      "__________________________________________________________________________________________________\n",
      "conv1_side4 (Conv2D)            (None, 40, 40, 128)  1638528     block4_conv3[0][0]               \n",
      "__________________________________________________________________________________________________\n",
      "conv1_side3 (Conv2D)            (None, 80, 80, 128)  819328      block3_conv3[0][0]               \n",
      "__________________________________________________________________________________________________\n",
      "conv2_side_pool5 (Conv2D)       (None, 10, 10, 256)  3211520     conv1_side_pool5[0][0]           \n",
      "__________________________________________________________________________________________________\n",
      "conv2_side5 (Conv2D)            (None, 20, 20, 256)  1638656     conv1_side5[0][0]                \n",
      "__________________________________________________________________________________________________\n",
      "conv2_side4 (Conv2D)            (None, 40, 40, 128)  409728      conv1_side4[0][0]                \n",
      "__________________________________________________________________________________________________\n",
      "conv2_side3 (Conv2D)            (None, 80, 80, 128)  409728      conv1_side3[0][0]                \n",
      "__________________________________________________________________________________________________\n",
      "conv1_side2 (Conv2D)            (None, 160, 160, 64) 73792       block2_conv2[0][0]               \n",
      "__________________________________________________________________________________________________\n",
      "conv1_side1 (Conv2D)            (None, 320, 320, 64) 36928       block1_conv2[0][0]               \n",
      "__________________________________________________________________________________________________\n",
      "conv3_side_pool5 (Conv2D)       (None, 10, 10, 1)    257         conv2_side_pool5[0][0]           \n",
      "__________________________________________________________________________________________________\n",
      "conv3_side5 (Conv2D)            (None, 20, 20, 1)    257         conv2_side5[0][0]                \n",
      "__________________________________________________________________________________________________\n",
      "conv3_side4 (Conv2D)            (None, 40, 40, 1)    129         conv2_side4[0][0]                \n",
      "__________________________________________________________________________________________________\n",
      "conv3_side3 (Conv2D)            (None, 80, 80, 1)    129         conv2_side3[0][0]                \n",
      "__________________________________________________________________________________________________\n",
      "conv2_side2 (Conv2D)            (None, 160, 160, 64) 36928       conv1_side2[0][0]                \n",
      "__________________________________________________________________________________________________\n",
      "conv2_side1 (Conv2D)            (None, 320, 320, 64) 36928       conv1_side1[0][0]                \n",
      "__________________________________________________________________________________________________\n",
      "conv3_side2 (Conv2D)            (None, 160, 160, 1)  65          conv2_side2[0][0]                \n",
      "__________________________________________________________________________________________________\n",
      "upsampling_c3_sp5_2 (Conv2DTran (None, 160, 160, 1)  1025        conv3_side_pool5[0][0]           \n",
      "__________________________________________________________________________________________________\n",
      "upsampling_c3_s5_2 (Conv2DTrans (None, 160, 160, 1)  257         conv3_side5[0][0]                \n",
      "__________________________________________________________________________________________________\n",
      "upsampling_c3_s4_2 (Conv2DTrans (None, 160, 160, 1)  65          conv3_side4[0][0]                \n",
      "__________________________________________________________________________________________________\n",
      "upsampling_c3_s3_2 (Conv2DTrans (None, 160, 160, 1)  17          conv3_side3[0][0]                \n",
      "__________________________________________________________________________________________________\n",
      "upsampling_c3_sp5_3 (Conv2DTran (None, 80, 80, 1)    257         conv3_side_pool5[0][0]           \n",
      "__________________________________________________________________________________________________\n",
      "upsampling_c3_s5_3 (Conv2DTrans (None, 80, 80, 1)    65          conv3_side5[0][0]                \n",
      "__________________________________________________________________________________________________\n",
      "upsampling_c3_sp5_4 (Conv2DTran (None, 40, 40, 1)    65          conv3_side_pool5[0][0]           \n",
      "__________________________________________________________________________________________________\n",
      "upsampling_c3_s5_4 (Conv2DTrans (None, 40, 40, 1)    17          conv3_side5[0][0]                \n",
      "__________________________________________________________________________________________________\n",
      "conv3_side1 (Conv2D)            (None, 320, 320, 1)  65          conv2_side1[0][0]                \n",
      "__________________________________________________________________________________________________\n",
      "upsampling_c3_sp5_1 (Conv2DTran (None, 320, 320, 1)  4097        conv3_side_pool5[0][0]           \n",
      "__________________________________________________________________________________________________\n",
      "upsampling_c3_s5_1 (Conv2DTrans (None, 320, 320, 1)  1025        conv3_side5[0][0]                \n",
      "__________________________________________________________________________________________________\n",
      "upsampling_c3_s4_1 (Conv2DTrans (None, 320, 320, 1)  257         conv3_side4[0][0]                \n",
      "__________________________________________________________________________________________________\n",
      "upsampling_c3_s3_1 (Conv2DTrans (None, 320, 320, 1)  65          conv3_side3[0][0]                \n",
      "__________________________________________________________________________________________________\n",
      "concat_side2 (Concatenate)      (None, 160, 160, 5)  0           conv3_side2[0][0]                \n",
      "                                                                 upsampling_c3_sp5_2[0][0]        \n",
      "                                                                 upsampling_c3_s5_2[0][0]         \n",
      "                                                                 upsampling_c3_s4_2[0][0]         \n",
      "                                                                 upsampling_c3_s3_2[0][0]         \n",
      "__________________________________________________________________________________________________\n",
      "concat_side3 (Concatenate)      (None, 80, 80, 3)    0           conv3_side3[0][0]                \n",
      "                                                                 upsampling_c3_sp5_3[0][0]        \n",
      "                                                                 upsampling_c3_s5_3[0][0]         \n",
      "__________________________________________________________________________________________________\n",
      "concat_s4 (Concatenate)         (None, 40, 40, 3)    0           conv3_side4[0][0]                \n",
      "                                                                 upsampling_c3_sp5_4[0][0]        \n",
      "                                                                 upsampling_c3_s5_4[0][0]         \n",
      "__________________________________________________________________________________________________\n",
      "concat_side1 (Concatenate)      (None, 320, 320, 5)  0           conv3_side1[0][0]                \n",
      "                                                                 upsampling_c3_sp5_1[0][0]        \n",
      "                                                                 upsampling_c3_s5_1[0][0]         \n",
      "                                                                 upsampling_c3_s4_1[0][0]         \n",
      "                                                                 upsampling_c3_s3_1[0][0]         \n",
      "__________________________________________________________________________________________________\n",
      "conv4_side2 (Conv2D)            (None, 160, 160, 1)  6           concat_side2[0][0]               \n",
      "__________________________________________________________________________________________________\n",
      "conv4_side3 (Conv2D)            (None, 80, 80, 1)    4           concat_side3[0][0]               \n",
      "__________________________________________________________________________________________________\n",
      "conv4_side4 (Conv2D)            (None, 40, 40, 1)    4           concat_s4[0][0]                  \n",
      "__________________________________________________________________________________________________\n",
      "conv4_side1 (Conv2D)            (None, 320, 320, 1)  6           concat_side1[0][0]               \n",
      "__________________________________________________________________________________________________\n",
      "upsampling_concat2 (Conv2DTrans (None, 320, 320, 1)  17          conv4_side2[0][0]                \n",
      "__________________________________________________________________________________________________\n",
      "upsampling_concat3 (Conv2DTrans (None, 320, 320, 1)  65          conv4_side3[0][0]                \n",
      "__________________________________________________________________________________________________\n",
      "upsampling_concat4 (Conv2DTrans (None, 320, 320, 1)  257         conv4_side4[0][0]                \n",
      "__________________________________________________________________________________________________\n",
      "upsampling_side5 (Conv2DTranspo (None, 320, 320, 1)  1025        conv3_side5[0][0]                \n",
      "__________________________________________________________________________________________________\n",
      "upsampling_side_pool5 (Conv2DTr (None, 320, 320, 1)  4097        conv3_side_pool5[0][0]           \n",
      "__________________________________________________________________________________________________\n",
      "concat_fusion (Concatenate)     (None, 320, 320, 6)  0           conv4_side1[0][0]                \n",
      "                                                                 upsampling_concat2[0][0]         \n",
      "                                                                 upsampling_concat3[0][0]         \n",
      "                                                                 upsampling_concat4[0][0]         \n",
      "                                                                 upsampling_side5[0][0]           \n",
      "                                                                 upsampling_side_pool5[0][0]      \n",
      "__________________________________________________________________________________________________\n",
      "conv_fuse (Conv2D)              (None, 320, 320, 1)  7           concat_fusion[0][0]              \n",
      "==================================================================================================\n",
      "Total params: 32,740,194\n",
      "Trainable params: 32,740,194\n",
      "Non-trainable params: 0\n",
      "__________________________________________________________________________________________________\n"
     ]
    }
   ],
   "source": [
    "model.summary()"
   ]
  },
  {
   "cell_type": "code",
   "execution_count": 13,
   "metadata": {
    "collapsed": false
   },
   "outputs": [],
   "source": [
    "from keras.utils import plot_model\n",
    "plot_model(model, to_file=\"hed_short_conn.png\")"
   ]
  },
  {
   "cell_type": "code",
   "execution_count": 20,
   "metadata": {
    "collapsed": false
   },
   "outputs": [
    {
     "name": "stdout",
     "output_type": "stream",
     "text": [
      "/c/Workspace/ThesisImageMatting/notebooks/saliency\n"
     ]
    }
   ],
   "source": [
    "!pwd"
   ]
  },
  {
   "cell_type": "code",
   "execution_count": 35,
   "metadata": {
    "collapsed": false
   },
   "outputs": [],
   "source": [
    "sys.path.insert(0, \"../../\")\n",
    "\n",
    "from scripts.saliency.saliency_data_generator import get_data_generators"
   ]
  },
  {
   "cell_type": "code",
   "execution_count": 36,
   "metadata": {
    "collapsed": false
   },
   "outputs": [
    {
     "name": "stdout",
     "output_type": "stream",
     "text": [
      "Found 13902 images belonging to 1 classes.\n",
      "Found 13902 images belonging to 1 classes.\n",
      "Found 1545 images belonging to 1 classes.\n",
      "Found 1545 images belonging to 1 classes.\n"
     ]
    }
   ],
   "source": [
    "train_gen, test_gen = get_data_generators()"
   ]
  },
  {
   "cell_type": "code",
   "execution_count": 37,
   "metadata": {
    "collapsed": false
   },
   "outputs": [],
   "source": [
    "x=next(train_gen)"
   ]
  },
  {
   "cell_type": "code",
   "execution_count": 30,
   "metadata": {
    "collapsed": false
   },
   "outputs": [],
   "source": [
    "from matplotlib.pyplot import imshow"
   ]
  },
  {
   "cell_type": "code",
   "execution_count": 33,
   "metadata": {
    "collapsed": false
   },
   "outputs": [
    {
     "data": {
      "text/plain": [
       "array([[[34.       , 36.       , 25.       ],\n",
       "        [34.       , 36.       , 25.       ],\n",
       "        [34.       , 36.       , 25.       ],\n",
       "        ...,\n",
       "        [ 0.       ,  0.       ,  0.       ],\n",
       "        [ 0.       ,  0.       ,  0.       ],\n",
       "        [ 0.       ,  0.       ,  0.       ]],\n",
       "\n",
       "       [[34.       , 36.       , 25.       ],\n",
       "        [34.       , 36.       , 25.       ],\n",
       "        [34.       , 36.       , 25.       ],\n",
       "        ...,\n",
       "        [ 0.       ,  0.       ,  0.       ],\n",
       "        [ 0.       ,  0.       ,  0.       ],\n",
       "        [ 0.       ,  0.       ,  0.       ]],\n",
       "\n",
       "       [[34.       , 36.       , 25.       ],\n",
       "        [34.       , 36.       , 25.       ],\n",
       "        [34.       , 36.       , 25.       ],\n",
       "        ...,\n",
       "        [ 0.       ,  0.       ,  0.       ],\n",
       "        [ 0.       ,  0.       ,  0.       ],\n",
       "        [ 0.       ,  0.       ,  0.       ]],\n",
       "\n",
       "       ...,\n",
       "\n",
       "       [[ 9.       , 10.       ,  5.       ],\n",
       "        [ 9.       , 10.       ,  5.       ],\n",
       "        [ 9.       , 10.       ,  5.       ],\n",
       "        ...,\n",
       "        [16.525747 ,  9.525748 ,  3.5257478],\n",
       "        [10.915484 ,  3.915485 ,  0.       ],\n",
       "        [11.366978 ,  4.366978 ,  0.       ]],\n",
       "\n",
       "       [[ 9.       , 10.       ,  5.       ],\n",
       "        [ 9.       , 10.       ,  5.       ],\n",
       "        [ 9.       , 10.       ,  5.       ],\n",
       "        ...,\n",
       "        [16.525747 ,  9.525748 ,  3.5257478],\n",
       "        [10.915484 ,  3.915485 ,  0.       ],\n",
       "        [11.366978 ,  4.366978 ,  0.       ]],\n",
       "\n",
       "       [[ 9.       , 10.       ,  5.       ],\n",
       "        [ 9.       , 10.       ,  5.       ],\n",
       "        [ 9.       , 10.       ,  5.       ],\n",
       "        ...,\n",
       "        [16.525747 ,  9.525748 ,  3.5257478],\n",
       "        [10.915484 ,  3.915485 ,  0.       ],\n",
       "        [11.366978 ,  4.366978 ,  0.       ]]], dtype=float32)"
      ]
     },
     "execution_count": 33,
     "metadata": {},
     "output_type": "execute_result"
    }
   ],
   "source": [
    "x[0][0]"
   ]
  },
  {
   "cell_type": "code",
   "execution_count": 38,
   "metadata": {
    "collapsed": false
   },
   "outputs": [
    {
     "data": {
      "text/plain": [
       "<matplotlib.image.AxesImage at 0x16581b599e8>"
      ]
     },
     "execution_count": 38,
     "metadata": {},
     "output_type": "execute_result"
    },
    {
     "data": {
      "image/png": "[encoded data removed]",
      "text/plain": [
       "<matplotlib.figure.Figure at 0x16581c1e160>"
      ]
     },
     "metadata": {},
     "output_type": "display_data"
    }
   ],
   "source": [
    "imshow(x[0][0].astype(np.uint8))"
   ]
  },
  {
   "cell_type": "code",
   "execution_count": 39,
   "metadata": {
    "collapsed": false
   },
   "outputs": [
    {
     "data": {
      "text/plain": [
       "<matplotlib.image.AxesImage at 0x16581ae65f8>"
      ]
     },
     "execution_count": 39,
     "metadata": {},
     "output_type": "execute_result"
    },
    {
     "data": {
      "image/png": "[encoded data removed]",
      "text/plain": [
       "<matplotlib.figure.Figure at 0x16581b6d6d8>"
      ]
     },
     "metadata": {},
     "output_type": "display_data"
    }
   ],
   "source": [
    "imshow(x[1][0].astype(np.uint8))"
   ]
  }
 ],
 "metadata": {
  "anaconda-cloud": {},
  "kernelspec": {
   "display_name": "Python (tensorflow-gpu)",
   "language": "python",
   "name": "tensorflow-gpu"
  },
  "language_info": {
   "codemirror_mode": {
    "name": "ipython",
    "version": 3
   },
   "file_extension": ".py",
   "mimetype": "text/x-python",
   "name": "python",
   "nbconvert_exporter": "python",
   "pygments_lexer": "ipython3",
   "version": "3.6.2"
  }
 },
 "nbformat": 4,
 "nbformat_minor": 1
}
