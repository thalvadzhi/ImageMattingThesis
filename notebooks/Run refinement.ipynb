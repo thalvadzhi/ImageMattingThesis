{
 "cells": [
  {
   "cell_type": "code",
   "execution_count": 1,
   "metadata": {
    "collapsed": false
   },
   "outputs": [
    {
     "name": "stderr",
     "output_type": "stream",
     "text": [
      "Using TensorFlow backend.\n"
     ]
    }
   ],
   "source": [
    "%load_ext autoreload\n",
    "%autoreload 2\n",
    "import sys\n",
    "import keras\n",
    "from keras.models import Model\n",
    "from keras.layers import Conv2D, UpSampling2D\n",
    "sys.path.insert(0, \"../scripts/\")\n",
    "from load_encoder_decoder import build_encoder_decoder_from_vgg\n",
    "from data_generator import DataGenerator\n",
    "from losses import overall_loss_wrapper, sad_wrapper, mse_wrapper, alpha_loss_wrapper\n",
    "from keras.callbacks import ModelCheckpoint, EarlyStopping, ReduceLROnPlateau\n",
    "from keras.utils import multi_gpu_model\n",
    "from keras.models import load_model\n",
    "from unpooling import Unpooling\n",
    "from load_refinement import build_refinement"
   ]
  },
  {
   "cell_type": "code",
   "execution_count": null,
   "metadata": {
    "collapsed": true
   },
   "outputs": [],
   "source": []
  },
  {
   "cell_type": "code",
   "execution_count": 2,
   "metadata": {
    "collapsed": false
   },
   "outputs": [
    {
     "name": "stderr",
     "output_type": "stream",
     "text": [
      "C:\\Users\\thalv\\Anaconda3\\envs\\tensorflow-cpu\\lib\\site-packages\\keras\\engine\\saving.py:292: UserWarning: No training configuration found in save file: the model was *not* compiled. Compile it manually.\n",
      "  warnings.warn('No training configuration found in save file: '\n"
     ]
    }
   ],
   "source": [
    "model = load_model(\"../model_checkpoints/encoder_decoder.09-val_loss-0.1228-val_sad-176.7991-val_mse-0.0449.hdf5\", custom_objects={\"Unpooling\": Unpooling()})"
   ]
  },
  {
   "cell_type": "code",
   "execution_count": 3,
   "metadata": {
    "collapsed": true
   },
   "outputs": [],
   "source": [
    "for layer in model.layers:\n",
    "        layer.trainable = False"
   ]
  },
  {
   "cell_type": "code",
   "execution_count": 4,
   "metadata": {
    "collapsed": false
   },
   "outputs": [],
   "source": [
    "refinement = build_refinement(model)"
   ]
  },
  {
   "cell_type": "code",
   "execution_count": 231,
   "metadata": {
    "collapsed": false
   },
   "outputs": [
    {
     "name": "stdout",
     "output_type": "stream",
     "text": [
      "__________________________________________________________________________________________________\n",
      "Layer (type)                    Output Shape         Param #     Connected to                     \n",
      "==================================================================================================\n",
      "input_2 (InputLayer)            (None, 320, 320, 4)  0                                            \n",
      "__________________________________________________________________________________________________\n",
      "block1_conv1 (Conv2D)           (None, 320, 320, 64) 2368        input_2[0][0]                    \n",
      "__________________________________________________________________________________________________\n",
      "block1_conv2 (Conv2D)           (None, 320, 320, 64) 36928       block1_conv1[0][0]               \n",
      "__________________________________________________________________________________________________\n",
      "block1_pool (MaxPooling2D)      (None, 160, 160, 64) 0           block1_conv2[0][0]               \n",
      "__________________________________________________________________________________________________\n",
      "block2_conv1 (Conv2D)           (None, 160, 160, 128 73856       block1_pool[0][0]                \n",
      "__________________________________________________________________________________________________\n",
      "block2_conv2 (Conv2D)           (None, 160, 160, 128 147584      block2_conv1[0][0]               \n",
      "__________________________________________________________________________________________________\n",
      "block2_pool (MaxPooling2D)      (None, 80, 80, 128)  0           block2_conv2[0][0]               \n",
      "__________________________________________________________________________________________________\n",
      "block3_conv1 (Conv2D)           (None, 80, 80, 256)  295168      block2_pool[0][0]                \n",
      "__________________________________________________________________________________________________\n",
      "block3_conv2 (Conv2D)           (None, 80, 80, 256)  590080      block3_conv1[0][0]               \n",
      "__________________________________________________________________________________________________\n",
      "block3_conv3 (Conv2D)           (None, 80, 80, 256)  590080      block3_conv2[0][0]               \n",
      "__________________________________________________________________________________________________\n",
      "block3_pool (MaxPooling2D)      (None, 40, 40, 256)  0           block3_conv3[0][0]               \n",
      "__________________________________________________________________________________________________\n",
      "block4_conv1 (Conv2D)           (None, 40, 40, 512)  1180160     block3_pool[0][0]                \n",
      "__________________________________________________________________________________________________\n",
      "block4_conv2 (Conv2D)           (None, 40, 40, 512)  2359808     block4_conv1[0][0]               \n",
      "__________________________________________________________________________________________________\n",
      "block4_conv3 (Conv2D)           (None, 40, 40, 512)  2359808     block4_conv2[0][0]               \n",
      "__________________________________________________________________________________________________\n",
      "block4_pool (MaxPooling2D)      (None, 20, 20, 512)  0           block4_conv3[0][0]               \n",
      "__________________________________________________________________________________________________\n",
      "block5_conv1 (Conv2D)           (None, 20, 20, 512)  2359808     block4_pool[0][0]                \n",
      "__________________________________________________________________________________________________\n",
      "block5_conv2 (Conv2D)           (None, 20, 20, 512)  2359808     block5_conv1[0][0]               \n",
      "__________________________________________________________________________________________________\n",
      "block5_conv3 (Conv2D)           (None, 20, 20, 512)  2359808     block5_conv2[0][0]               \n",
      "__________________________________________________________________________________________________\n",
      "block5_pool (MaxPooling2D)      (None, 10, 10, 512)  0           block5_conv3[0][0]               \n",
      "__________________________________________________________________________________________________\n",
      "conv2d_1 (Conv2D)               (None, 4, 4, 4096)   102764544   block5_pool[0][0]                \n",
      "__________________________________________________________________________________________________\n",
      "up_sampling2d_1 (UpSampling2D)  (None, 8, 8, 4096)   0           conv2d_1[0][0]                   \n",
      "__________________________________________________________________________________________________\n",
      "zero_padding2d_1 (ZeroPadding2D (None, 10, 10, 4096) 0           up_sampling2d_1[0][0]            \n",
      "__________________________________________________________________________________________________\n",
      "deconv6 (Conv2D)                (None, 10, 10, 512)  2097664     zero_padding2d_1[0][0]           \n",
      "__________________________________________________________________________________________________\n",
      "batch_normalization_1 (BatchNor (None, 10, 10, 512)  2048        deconv6[0][0]                    \n",
      "__________________________________________________________________________________________________\n",
      "upsampling5 (UpSampling2D)      (None, 20, 20, 512)  0           batch_normalization_1[0][0]      \n",
      "__________________________________________________________________________________________________\n",
      "reshape_1 (Reshape)             (None, 1, 20, 20, 51 0           block5_conv3[0][0]               \n",
      "__________________________________________________________________________________________________\n",
      "reshape_2 (Reshape)             (None, 1, 20, 20, 51 0           upsampling5[0][0]                \n",
      "__________________________________________________________________________________________________\n",
      "concatenate_1 (Concatenate)     (None, 2, 20, 20, 51 0           reshape_1[0][0]                  \n",
      "                                                                 reshape_2[0][0]                  \n",
      "__________________________________________________________________________________________________\n",
      "unpooling_1 (Unpooling)         (None, 20, 20, 512)  0           concatenate_1[0][0]              \n",
      "__________________________________________________________________________________________________\n",
      "deconv5 (Conv2D)                (None, 20, 20, 512)  6554112     unpooling_1[0][0]                \n",
      "__________________________________________________________________________________________________\n",
      "upsampling4 (UpSampling2D)      (None, 40, 40, 512)  0           deconv5[0][0]                    \n",
      "__________________________________________________________________________________________________\n",
      "reshape_3 (Reshape)             (None, 1, 40, 40, 51 0           block4_conv3[0][0]               \n",
      "__________________________________________________________________________________________________\n",
      "reshape_4 (Reshape)             (None, 1, 40, 40, 51 0           upsampling4[0][0]                \n",
      "__________________________________________________________________________________________________\n",
      "concatenate_2 (Concatenate)     (None, 2, 40, 40, 51 0           reshape_3[0][0]                  \n",
      "                                                                 reshape_4[0][0]                  \n",
      "__________________________________________________________________________________________________\n",
      "unpooling_2 (Unpooling)         (None, 40, 40, 512)  0           concatenate_2[0][0]              \n",
      "__________________________________________________________________________________________________\n",
      "deconv4 (Conv2D)                (None, 40, 40, 256)  3277056     unpooling_2[0][0]                \n",
      "__________________________________________________________________________________________________\n",
      "upsampling3 (UpSampling2D)      (None, 80, 80, 256)  0           deconv4[0][0]                    \n",
      "__________________________________________________________________________________________________\n",
      "reshape_5 (Reshape)             (None, 1, 80, 80, 25 0           block3_conv3[0][0]               \n",
      "__________________________________________________________________________________________________\n",
      "reshape_6 (Reshape)             (None, 1, 80, 80, 25 0           upsampling3[0][0]                \n",
      "__________________________________________________________________________________________________\n",
      "concatenate_3 (Concatenate)     (None, 2, 80, 80, 25 0           reshape_5[0][0]                  \n",
      "                                                                 reshape_6[0][0]                  \n",
      "__________________________________________________________________________________________________\n",
      "unpooling_3 (Unpooling)         (None, 80, 80, 256)  0           concatenate_3[0][0]              \n",
      "__________________________________________________________________________________________________\n",
      "deconv3 (Conv2D)                (None, 80, 80, 128)  819328      unpooling_3[0][0]                \n",
      "__________________________________________________________________________________________________\n",
      "upsampling2 (UpSampling2D)      (None, 160, 160, 128 0           deconv3[0][0]                    \n",
      "__________________________________________________________________________________________________\n",
      "reshape_7 (Reshape)             (None, 1, 160, 160,  0           block2_conv2[0][0]               \n",
      "__________________________________________________________________________________________________\n",
      "reshape_8 (Reshape)             (None, 1, 160, 160,  0           upsampling2[0][0]                \n",
      "__________________________________________________________________________________________________\n",
      "concatenate_4 (Concatenate)     (None, 2, 160, 160,  0           reshape_7[0][0]                  \n",
      "                                                                 reshape_8[0][0]                  \n",
      "__________________________________________________________________________________________________\n",
      "unpooling_4 (Unpooling)         (None, 160, 160, 128 0           concatenate_4[0][0]              \n",
      "__________________________________________________________________________________________________\n",
      "deconv2 (Conv2D)                (None, 160, 160, 64) 204864      unpooling_4[0][0]                \n",
      "__________________________________________________________________________________________________\n",
      "upsampling1 (UpSampling2D)      (None, 320, 320, 64) 0           deconv2[0][0]                    \n",
      "__________________________________________________________________________________________________\n",
      "reshape_9 (Reshape)             (None, 1, 320, 320,  0           block1_conv2[0][0]               \n",
      "__________________________________________________________________________________________________\n",
      "reshape_10 (Reshape)            (None, 1, 320, 320,  0           upsampling1[0][0]                \n",
      "__________________________________________________________________________________________________\n",
      "concatenate_5 (Concatenate)     (None, 2, 320, 320,  0           reshape_9[0][0]                  \n",
      "                                                                 reshape_10[0][0]                 \n",
      "__________________________________________________________________________________________________\n",
      "unpooling_5 (Unpooling)         (None, 320, 320, 64) 0           concatenate_5[0][0]              \n",
      "__________________________________________________________________________________________________\n",
      "deconv1 (Conv2D)                (None, 320, 320, 64) 102464      unpooling_5[0][0]                \n",
      "__________________________________________________________________________________________________\n",
      "lambda_38 (Lambda)              (None, 320, 320, 3)  0           input_2[0][0]                    \n",
      "__________________________________________________________________________________________________\n",
      "Raw_Alpha_Pred (Conv2D)         (None, 320, 320, 1)  1601        deconv1[0][0]                    \n",
      "__________________________________________________________________________________________________\n",
      "concatenate_refinement (Concate (None, 320, 320, 4)  0           lambda_38[0][0]                  \n",
      "                                                                 Raw_Alpha_Pred[0][0]             \n",
      "__________________________________________________________________________________________________\n",
      "conv_refinement1 (Conv2D)       (None, 320, 320, 64) 2368        concatenate_refinement[0][0]     \n",
      "__________________________________________________________________________________________________\n",
      "batch_norm_refinement_1 (BatchN (None, 320, 320, 64) 256         conv_refinement1[0][0]           \n",
      "__________________________________________________________________________________________________\n",
      "conv_refinement2 (Conv2D)       (None, 320, 320, 64) 36928       batch_norm_refinement_1[0][0]    \n",
      "__________________________________________________________________________________________________\n",
      "batch_norm_refinement_2 (BatchN (None, 320, 320, 64) 256         conv_refinement2[0][0]           \n",
      "__________________________________________________________________________________________________\n",
      "conv_refinement3 (Conv2D)       (None, 320, 320, 64) 36928       batch_norm_refinement_2[0][0]    \n",
      "__________________________________________________________________________________________________\n",
      "batch_norm_refinement_3 (BatchN (None, 320, 320, 64) 256         conv_refinement3[0][0]           \n",
      "__________________________________________________________________________________________________\n",
      "refinement_output (Conv2D)      (None, 320, 320, 1)  577         batch_norm_refinement_3[0][0]    \n",
      "__________________________________________________________________________________________________\n",
      "add_2 (Add)                     (None, 320, 320, 1)  0           refinement_output[0][0]          \n",
      "                                                                 Raw_Alpha_Pred[0][0]             \n",
      "__________________________________________________________________________________________________\n",
      "activation_1 (Activation)       (None, 320, 320, 1)  0           add_2[0][0]                      \n",
      "==================================================================================================\n",
      "Total params: 130,616,514\n",
      "Trainable params: 77,185\n",
      "Non-trainable params: 130,539,329\n",
      "__________________________________________________________________________________________________\n"
     ]
    }
   ],
   "source": [
    "refinement.summary()"
   ]
  },
  {
   "cell_type": "code",
   "execution_count": 10,
   "metadata": {
    "collapsed": true
   },
   "outputs": [],
   "source": [
    "PATIENCE=30\n",
    "PATH_MODEL_CHECKPOINTS = \"../model_checkpoints/\"\n",
    "PATH_LOGS = \"../logs/\"\n",
    "BACKGROUNDS_PER_FG_TRAIN = 100\n",
    "BACKGROUNDS_PER_FG_TEST = 20\n",
    "BATCH_SIZE=2"
   ]
  },
  {
   "cell_type": "code",
   "execution_count": 11,
   "metadata": {
    "collapsed": false
   },
   "outputs": [],
   "source": [
    "fg_train = \"D:\\\\Image Matting Dataset\\\\adobe dataset\\\\Combined_Dataset\\\\Training_set\\\\all_foregrounds\\\\\"\n",
    "bg_train = \"D:\\\\Image Matting Dataset\\\\mscoco\\\\train2014\\\\train2014\\\\\"\n",
    "a_train = \"D:\\\\Image Matting Dataset\\\\adobe dataset\\\\Combined_Dataset\\\\Training_set\\\\all_alphas\\\\\"\n",
    "\n",
    "fg_names_train = \"D:\\\\Image Matting Dataset\\\\adobe dataset\\\\Combined_Dataset\\\\Training_set\\\\training_fg_names.txt\"\n",
    "bg_names_train = \"D:\\\\Image Matting Dataset\\\\adobe dataset\\\\Combined_Dataset\\\\Training_set\\\\training_bg_names.txt\"\n",
    "\n",
    "\n",
    "fg_test = \"D:\\\\Image Matting Dataset\\\\adobe dataset\\\\Combined_Dataset\\\\Test_set\\\\Adobe-licensed images\\\\fg\\\\\"\n",
    "bg_test = \"D:\\\\Image Matting Dataset\\\\mscoco\\\\test_selected\\\\\"\n",
    "a_test = \"D:\\\\Image Matting Dataset\\\\adobe dataset\\\\Combined_Dataset\\\\Test_set\\\\Adobe-licensed images\\\\alpha\\\\\"\n",
    "\n",
    "fg_names_test = \"D:\\\\Image Matting Dataset\\\\adobe dataset\\\\Combined_Dataset\\\\Test_set\\\\test_fg_names.txt\"\n",
    "bg_names_test = \"D:\\\\Image Matting Dataset\\\\adobe dataset\\\\Combined_Dataset\\\\Test_set\\\\test_bg_names.txt\"\n",
    "\n",
    "# test_gen = DataGenerator(path_combined_test, path_alphas_test, 16, False) \n",
    "train_gen = DataGenerator(fg_names_train, bg_names_train, BACKGROUNDS_PER_FG_TRAIN, fg_train, bg_train, a_train, BATCH_SIZE, False)\n",
    "test_gen = DataGenerator(fg_names_test, bg_names_test, BACKGROUNDS_PER_FG_TEST, fg_test, bg_test, a_test, BATCH_SIZE, False)"
   ]
  },
  {
   "cell_type": "code",
   "execution_count": 12,
   "metadata": {
    "collapsed": true
   },
   "outputs": [],
   "source": [
    "tensor_board = keras.callbacks.TensorBoard(log_dir=PATH_LOGS, histogram_freq=0, write_graph=True, write_images=True)\n",
    "model_name = PATH_MODEL_CHECKPOINTS + 'encoder_decoder.{epoch:02d}-val_loss-{val_loss:.4f}-val_sad-{val_sad:.4f}-val_mse-{val_mse:.4f}.hdf5'\n",
    "model_checkpoint = ModelCheckpoint(model_name, monitor='val_loss', verbose=1, save_best_only=True)\n",
    "early_stop = EarlyStopping('val_loss', patience=PATIENCE, verbose=1)\n",
    "reduce_lr = ReduceLROnPlateau('val_loss', factor=0.1, patience=PATIENCE // 4, verbose=1)\n",
    "\n",
    "callbacks = [tensor_board, model_checkpoint, early_stop, reduce_lr]"
   ]
  },
  {
   "cell_type": "code",
   "execution_count": null,
   "metadata": {
    "collapsed": true
   },
   "outputs": [],
   "source": []
  },
  {
   "cell_type": "code",
   "execution_count": 15,
   "metadata": {
    "collapsed": false
   },
   "outputs": [],
   "source": [
    "inputs = refinement.input\n",
    "refinement.compile(optimizer=\"adam\", loss=alpha_loss_wrapper(inputs), metrics=[sad_wrapper(inputs), mse_wrapper(inputs)])"
   ]
  },
  {
   "cell_type": "code",
   "execution_count": 16,
   "metadata": {
    "collapsed": false
   },
   "outputs": [
    {
     "name": "stdout",
     "output_type": "stream",
     "text": [
      "Epoch 1/1\n",
      "2/2 [==============================] - 40s 20s/step - loss: 0.1880 - sad: 24.4812 - mse: 0.0669 - val_loss: 0.4354 - val_sad: 58.0882 - val_mse: 0.2174\n",
      "\n",
      "Epoch 00001: val_loss improved from 0.53438 to 0.43535, saving model to ../model_checkpoints/encoder_decoder.01-val_loss-0.4354-val_sad-58.0882-val_mse-0.2174.hdf5\n"
     ]
    }
   ],
   "source": [
    "history = refinement.fit_generator(train_gen, validation_data=test_gen, use_multiprocessing=False, workers=1, callbacks=callbacks, shuffle=False, epochs=1, validation_steps=2, steps_per_epoch=2)"
   ]
  }
 ],
 "metadata": {
  "anaconda-cloud": {},
  "kernelspec": {
   "display_name": "Python [conda env:tensorflow-cpu]",
   "language": "python",
   "name": "conda-env-tensorflow-cpu-py"
  },
  "language_info": {
   "codemirror_mode": {
    "name": "ipython",
    "version": 3
   },
   "file_extension": ".py",
   "mimetype": "text/x-python",
   "name": "python",
   "nbconvert_exporter": "python",
   "pygments_lexer": "ipython3",
   "version": "3.6.2"
  }
 },
 "nbformat": 4,
 "nbformat_minor": 1
}
